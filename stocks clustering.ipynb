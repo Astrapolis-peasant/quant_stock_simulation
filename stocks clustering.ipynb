{
 "cells": [
  {
   "cell_type": "code",
   "execution_count": 286,
   "metadata": {
    "collapsed": false
   },
   "outputs": [],
   "source": [
    "from sqlalchemy import create_engine\n",
    "import pandas\n",
    "import tushare as ts\n",
    "import numpy as np\n",
    "import collections\n",
    "from sklearn import cluster, covariance, manifold"
   ]
  },
  {
   "cell_type": "code",
   "execution_count": 247,
   "metadata": {
    "collapsed": true
   },
   "outputs": [],
   "source": [
    "class BankAccount:\n",
    "    def __init__(self, deposit,interest_rate):\n",
    "        self.deposit = deposit\n",
    "        \n",
    "    def show_balance(self):\n",
    "        print self.deposit\n",
    "        \n",
    "    def take_loans(self,amount_of_loans):\n",
    "        self.amount_of_loans = amount_of_loans"
   ]
  },
  {
   "cell_type": "code",
   "execution_count": 282,
   "metadata": {
    "collapsed": false
   },
   "outputs": [],
   "source": [
    "class StockAccount(BankAccount):\n",
    "    def __init__(self, deposit, interest_rate=3,trading_expense=0.2, initial_holdings={}):\n",
    "        BankAccount.__init__(self, deposit, interest_rate)\n",
    "        self.trading_expense = trading_expense/100\n",
    "        self.holdings = initial_holdings\n",
    "        self.trading_history = {}\n",
    "\n",
    "    def check_account(self):\n",
    "        print 'balance:',self.deposit, 'holdings:',self.holdings,\n",
    "    \n",
    "    def record_trading_history(function):\n",
    "        def add_trading_history(self, stock_code, price, shares, date):\n",
    "            self.trading_history[date] = self.trading_history.get(date, [])\n",
    "            self.trading_history[date].append((function.func_name,price,stock_code, shares))\n",
    "            return function(self, stock_code, price, shares, date)\n",
    "        return add_trading_history\n",
    "    \n",
    "    @record_trading_history\n",
    "    def buy(self, stock_code, price, shares, date):\n",
    "        cost = price*shares*(1+self.trading_expense)\n",
    "        if self.deposit > cost:\n",
    "            self.deposit = self.deposit - cost\n",
    "            self.holdings[stock_code] = self.holdings.get(stock_code, 0) + shares\n",
    "        else:\n",
    "            print 'not enough balance'\n",
    "    \n",
    "    @record_trading_history\n",
    "    def sell(self, stock_code, price,shares, date):\n",
    "        self.holdings[stock_code] = self.holdings.get(stock_code, 0)\n",
    "        if self.holdings[stock_code] > shares:\n",
    "            self.holdings[stock_code] = self.holdings[stock_code] - shares\n",
    "            self.deposit = self.deposit + price*shares*(1-self.trading_expense) \n",
    "        else:\n",
    "            print 'no stocks to sell'\n",
    "    \n",
    "    @record_trading_history\n",
    "    def borrow_stocks(self, stock_code, price,shares, date):\n",
    "        pass"
   ]
  },
  {
   "cell_type": "code",
   "execution_count": 283,
   "metadata": {
    "collapsed": false
   },
   "outputs": [],
   "source": [
    "new_account = StockAccount(10000)"
   ]
  },
  {
   "cell_type": "code",
   "execution_count": 268,
   "metadata": {
    "collapsed": false,
    "scrolled": false
   },
   "outputs": [],
   "source": [
    "new_account.buy('1234',19.2, 123, '09/12')"
   ]
  },
  {
   "cell_type": "code",
   "execution_count": 269,
   "metadata": {
    "collapsed": false
   },
   "outputs": [],
   "source": [
    "new_account.sell('1234',20.1,100,'09/13')"
   ]
  },
  {
   "cell_type": "code",
   "execution_count": 270,
   "metadata": {
    "collapsed": true
   },
   "outputs": [],
   "source": [
    "new_account.buy('234',30,100,'09/14')"
   ]
  },
  {
   "cell_type": "code",
   "execution_count": 271,
   "metadata": {
    "collapsed": false
   },
   "outputs": [
    {
     "data": {
      "text/plain": [
       "{'09/12': [('buy', 19.2, '1234', 123)],\n",
       " '09/13': [('sell', 20.1, '1234', 100)],\n",
       " '09/14': [('buy', 30, '234', 100)]}"
      ]
     },
     "execution_count": 271,
     "metadata": {},
     "output_type": "execute_result"
    }
   ],
   "source": [
    "new_account.trading_history"
   ]
  },
  {
   "cell_type": "code",
   "execution_count": 272,
   "metadata": {
    "collapsed": false
   },
   "outputs": [
    {
     "name": "stdout",
     "output_type": "stream",
     "text": [
      "balance: 6633.6568 holdings: {'1234': 23, '234': 100}\n"
     ]
    }
   ],
   "source": [
    "new_account.check_account()"
   ]
  },
  {
   "cell_type": "code",
   "execution_count": 273,
   "metadata": {
    "collapsed": false,
    "scrolled": true
   },
   "outputs": [
    {
     "data": {
      "text/plain": [
       "{'09/12': [('buy', 19.2, '1234', 123)],\n",
       " '09/13': [('sell', 20.1, '1234', 100)],\n",
       " '09/14': [('buy', 30, '234', 100)]}"
      ]
     },
     "execution_count": 273,
     "metadata": {},
     "output_type": "execute_result"
    }
   ],
   "source": [
    "new_account.trading_history"
   ]
  },
  {
   "cell_type": "code",
   "execution_count": 274,
   "metadata": {
    "collapsed": false
   },
   "outputs": [
    {
     "name": "stdout",
     "output_type": "stream",
     "text": [
      "balance: 6633.6568 holdings: {'1234': 23, '234': 100}\n"
     ]
    }
   ],
   "source": [
    "new_account.check_account()"
   ]
  },
  {
   "cell_type": "code",
   "execution_count": 275,
   "metadata": {
    "collapsed": false
   },
   "outputs": [
    {
     "name": "stdout",
     "output_type": "stream",
     "text": [
      "no stocks to sell\n"
     ]
    }
   ],
   "source": [
    "new_account.sell('1234',20, 100, '09/14')"
   ]
  },
  {
   "cell_type": "code",
   "execution_count": 278,
   "metadata": {
    "collapsed": false
   },
   "outputs": [
    {
     "name": "stdout",
     "output_type": "stream",
     "text": [
      "no stocks to sell\n"
     ]
    }
   ],
   "source": [
    "new_account.sell('234',20, 100, '09/14')"
   ]
  },
  {
   "cell_type": "code",
   "execution_count": 277,
   "metadata": {
    "collapsed": false
   },
   "outputs": [
    {
     "name": "stdout",
     "output_type": "stream",
     "text": [
      "balance: 6633.6568 holdings: {'1234': 23, '234': 100}\n"
     ]
    }
   ],
   "source": [
    "new_account.check_account()"
   ]
  },
  {
   "cell_type": "code",
   "execution_count": 56,
   "metadata": {
    "collapsed": false,
    "scrolled": true
   },
   "outputs": [
    {
     "ename": "NameError",
     "evalue": "name 'ts' is not defined",
     "output_type": "error",
     "traceback": [
      "\u001b[0;31m---------------------------------------------------------------------------\u001b[0m",
      "\u001b[0;31mNameError\u001b[0m                                 Traceback (most recent call last)",
      "\u001b[0;32m<ipython-input-56-aa42088a54b4>\u001b[0m in \u001b[0;36m<module>\u001b[0;34m()\u001b[0m\n\u001b[0;32m----> 1\u001b[0;31m \u001b[0mhs300\u001b[0m \u001b[0;34m=\u001b[0m \u001b[0mts\u001b[0m\u001b[0;34m.\u001b[0m\u001b[0mget_hs300s\u001b[0m\u001b[0;34m(\u001b[0m\u001b[0;34m)\u001b[0m\u001b[0;34m\u001b[0m\u001b[0m\n\u001b[0m",
      "\u001b[0;31mNameError\u001b[0m: name 'ts' is not defined"
     ]
    }
   ],
   "source": [
    "hs300 = ts.get_hs300s()\n",
    "for code in [i for i in hs300['code']]:\n",
    "    ts.get_k_data(code).to_csv('hs300.csv', mode='a', header=False)"
   ]
  },
  {
   "cell_type": "code",
   "execution_count": 287,
   "metadata": {
    "collapsed": false
   },
   "outputs": [],
   "source": [
    "hs300 = pandas.read_csv('hs300.csv')"
   ]
  },
  {
   "cell_type": "code",
   "execution_count": 305,
   "metadata": {
    "collapsed": true
   },
   "outputs": [],
   "source": [
    "def train_data(hs300,date_start, date_end):\n",
    "    hs300 = hs300[(hs300['date'] > date_start) & (hs300['date'] <= date_end)]\n",
    "    hs300_group = hs300.groupby('code')\n",
    "    value_count = collections.Counter([len(hs300_group.get_group(x)) for x in hs300_group.groups])\n",
    "    most_common_stock_frequency = max(value_count, key=value_count.get)\n",
    "    lst = [hs300_group.get_group(x) for x in hs300_group.groups if len(hs300_group.get_group(x))==most_common_stock_frequency]\n",
    "    return lst"
   ]
  },
  {
   "cell_type": "code",
   "execution_count": 303,
   "metadata": {
    "collapsed": false
   },
   "outputs": [],
   "source": [
    "def train_model(list_stocks):\n",
    "    codes = np.asarray([i['code'].values[1] for i in list_stocks])\n",
    "    open = np.array([i.open.values for i in list_stocks]).astype(np.float)\n",
    "    close = np.array([i.close.values for i in list_stocks]).astype(np.float)\n",
    "    variation = close - open\n",
    "    edge_model = covariance.GraphLassoCV()\n",
    "    X = variation.copy().T\n",
    "    X /= X.std(axis=0)\n",
    "    edge_model.fit(X)\n",
    "    _, labels = cluster.affinity_propagation(edge_model.covariance_)\n",
    "    n_labels = labels.max()\n",
    "    l1 = []\n",
    "    for i in range(n_labels + 1):\n",
    "        l1.append(codes[labels == i])\n",
    "    return l1"
   ]
  },
  {
   "cell_type": "code",
   "execution_count": 307,
   "metadata": {
    "collapsed": false
   },
   "outputs": [],
   "source": [
    "train_data = train_data(hs300, '2016-01-01', '2016-06-30')"
   ]
  },
  {
   "cell_type": "code",
   "execution_count": 310,
   "metadata": {
    "collapsed": true
   },
   "outputs": [],
   "source": [
    "import time"
   ]
  },
  {
   "cell_type": "code",
   "execution_count": 311,
   "metadata": {
    "collapsed": false
   },
   "outputs": [
    {
     "name": "stdout",
     "output_type": "stream",
     "text": [
      "55.4599030018\n"
     ]
    }
   ],
   "source": [
    "start = time.time()\n",
    "clustering = train_model(train_data)\n",
    "end = time.time()\n",
    "print end - start"
   ]
  },
  {
   "cell_type": "code",
   "execution_count": 314,
   "metadata": {
    "collapsed": false
   },
   "outputs": [
    {
     "data": {
      "text/plain": [
       "[array([601088,     63, 601898, 600188, 601225, 600718, 600208,    709,\n",
       "           712, 600008]),\n",
       " array([600066]),\n",
       " array([601601]),\n",
       " array([600074]),\n",
       " array([601618, 300015]),\n",
       " array([  2081, 600029]),\n",
       " array([600104, 600741, 601288, 600406,    876,   2415]),\n",
       " array([46]),\n",
       " array([     9,   2183,    792, 603993]),\n",
       " array([600737]),\n",
       " array([600582, 600642, 600157, 600705, 601808, 600837, 601866,    826,\n",
       "        601919,    778, 600485, 600028]),\n",
       " array([600674, 600886,   2470]),\n",
       " array([601166]),\n",
       " array([601628, 601169, 300251]),\n",
       " array([600606, 600660, 600340]),\n",
       " array([600663]),\n",
       " array([601009,   2142, 600015, 601988, 601998, 600011]),\n",
       " array([600588, 300059, 300070, 300085,     69, 300133,   2153, 601216,\n",
       "          2195,    156,    686, 600446, 603000,   2292, 300315, 601928,\n",
       "          2399, 601992,   2500,    977, 600570, 300027]),\n",
       " array([   538, 600688, 600196, 300058, 600037, 600998,   2475]),\n",
       " array([600518]),\n",
       " array([601111,   2202,   2736, 600804, 601555, 600362,    423, 600050,\n",
       "        600061]),\n",
       " array([  2568,      1,     60, 600959,   2146, 600170, 600685, 600690,\n",
       "        600739, 601211, 600177, 601258, 600256, 600111, 601718,    729,\n",
       "        601336, 601857, 600583, 600352,   2385,    425, 601006, 600021,\n",
       "          2024]),\n",
       " array([2252]),\n",
       " array([600276]),\n",
       " array([601186, 601390, 600398, 600016]),\n",
       " array([600704, 601118,     39, 603885,    825, 601958,    898, 601600,\n",
       "          1979, 600022]),\n",
       " array([600068, 601668, 601179, 601800, 601766, 600098, 600816, 601669,\n",
       "        600820]),\n",
       " array([601727, 600383,    503]),\n",
       " array([600578, 601117, 601633,    157, 600415,     27, 600795, 601872,\n",
       "        600031, 601991, 600221, 600535]),\n",
       " array([601106, 600089, 300124, 601608, 600875, 601985,   2450, 600027]),\n",
       " array([600585, 600895, 601333, 600703, 600271, 600372, 600038]),\n",
       " array([600376]),\n",
       " array([600118,    738,    768, 600893]),\n",
       " array([600900]),\n",
       " array([601398, 601939]),\n",
       " array([839]),\n",
       " array([300003]),\n",
       " array([  2304, 600600, 601098, 600863,    858,    895]),\n",
       " array([   100,   2236, 600839,     61,    413, 600048]),\n",
       " array([   630, 601318, 600023,    883]),\n",
       " array([600109, 601688, 300146, 600252, 600867, 600871,   2007,   2422,\n",
       "        601933]),\n",
       " array([600085,    793, 600373,   2424, 601018,   2027]),\n",
       " array([601607, 601818, 601328,   2294,    402, 601016]),\n",
       " array([601021]),\n",
       " array([600000]),\n",
       " array([600648, 600150,   2241,   2230, 600958, 600309, 600100]),\n",
       " array([600887, 600519]),\n",
       " array([   625, 600009,    800]),\n",
       " array([  2594,    568, 601888, 600010,   2008]),\n",
       " array([601099, 601198,    623,    166,   2673, 601377, 600999, 600317,\n",
       "           776,    783, 600873, 601901, 601788, 600783, 600018, 600030]),\n",
       " array([300002]),\n",
       " array([600036]),\n",
       " array([   333,    963,    999, 300017]),\n",
       " array([601899, 600489, 600547]),\n",
       " array([600115,    540,    725, 600332,   2456, 600827, 300024]),\n",
       " array([600060])]"
      ]
     },
     "execution_count": 314,
     "metadata": {},
     "output_type": "execute_result"
    }
   ],
   "source": [
    "clustering"
   ]
  },
  {
   "cell_type": "code",
   "execution_count": null,
   "metadata": {
    "collapsed": true
   },
   "outputs": [],
   "source": [
    "def trade_sim(stock_account, start_date, end_date):\n",
    "    "
   ]
  }
 ],
 "metadata": {
  "anaconda-cloud": {},
  "kernelspec": {
   "display_name": "Python [Root]",
   "language": "python",
   "name": "Python [Root]"
  },
  "language_info": {
   "codemirror_mode": {
    "name": "ipython",
    "version": 2
   },
   "file_extension": ".py",
   "mimetype": "text/x-python",
   "name": "python",
   "nbconvert_exporter": "python",
   "pygments_lexer": "ipython2",
   "version": "2.7.9"
  }
 },
 "nbformat": 4,
 "nbformat_minor": 0
}
