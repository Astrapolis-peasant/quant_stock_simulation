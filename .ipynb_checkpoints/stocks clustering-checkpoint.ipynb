{
 "cells": [
  {
   "cell_type": "code",
   "execution_count": 246,
   "metadata": {
    "collapsed": false
   },
   "outputs": [],
   "source": [
    "import pandas\n",
    "import tushare as ts\n",
    "import numpy as np\n",
    "import collections\n",
    "from sklearn import cluster, covariance, manifold"
   ]
  },
  {
   "cell_type": "code",
   "execution_count": 285,
   "metadata": {
    "collapsed": true
   },
   "outputs": [],
   "source": [
    "def hist_fetch():\n",
    "    hs300 = ts.get_hs300s()\n",
    "    for code in [i for i in hs300['code']]:\n",
    "        ts.get_k_data(code).to_csv('hs300.csv', mode='a', header=False)"
   ]
  },
  {
   "cell_type": "markdown",
   "metadata": {},
   "source": [
    "### This is a basic Stock Account Class to help run Trading Simulation"
   ]
  },
  {
   "cell_type": "code",
   "execution_count": 268,
   "metadata": {
    "collapsed": true
   },
   "outputs": [],
   "source": [
    "class BankAccount:\n",
    "    def __init__(self, deposit,interest_rate=3):\n",
    "        self.deposit = deposit\n",
    "        self.balance = deposit        \n",
    "    \n",
    "    def show_bank_account(self):\n",
    "        print \"balance:¥{}\".format(self.balance)"
   ]
  },
  {
   "cell_type": "code",
   "execution_count": 281,
   "metadata": {
    "collapsed": false
   },
   "outputs": [],
   "source": [
    "class StockAccount(BankAccount):\n",
    "    def __init__(self, balance, interest_rate=3,trading_expense=0.2, initial_holdings={}):\n",
    "        BankAccount.__init__(self, balance, interest_rate)\n",
    "        self.trading_expense = trading_expense/100\n",
    "        self.holdings = initial_holdings\n",
    "        self.trading_history = {}\n",
    "        \n",
    "    def record_trading_history(function):\n",
    "        def add_trading_history(self, stock_code, price, shares, date):\n",
    "            self.trading_history[date] = self.trading_history.get(date, [])\n",
    "            self.trading_history[date].append((function.func_name,stock_code, price,shares))\n",
    "            return function(self, stock_code, price, shares, date)\n",
    "        return add_trading_history\n",
    "    \n",
    "    @record_trading_history\n",
    "    def buy(self, stock_code, price, shares, date):\n",
    "        cost = price*shares*(1+self.trading_expense)\n",
    "        self.balance = self.balance - cost\n",
    "        self.holdings[stock_code] = self.holdings.get(stock_code, 0) + shares\n",
    "    \n",
    "    @record_trading_history\n",
    "    def sell(self, stock_code, price,shares, date):\n",
    "        self.holdings[stock_code] = self.holdings.get(stock_code, 0)\n",
    "        self.holdings[stock_code] = self.holdings[stock_code] - shares\n",
    "        self.balance = self.balance + price*shares*(1-self.trading_expense) \n",
    "    \n",
    "    def check_stock_account(self, stock_price = {}):\n",
    "        asset = sum([(stock_price[key]*value) for key,value in self.holdings.iteritems()])+self.balance\n",
    "        self.show_bank_account()\n",
    "        print 'holdings:{}'.format(self.holdings)\n",
    "        print 'asset:¥{}'.format(asset)\n",
    "        print 'P&L:¥{}'.format(asset - self.deposit)"
   ]
  },
  {
   "cell_type": "code",
   "execution_count": 282,
   "metadata": {
    "collapsed": false
   },
   "outputs": [],
   "source": [
    "new_account = StockAccount(10000)\n",
    "new_account.buy('1234',19.2, 123, '09/12')\n",
    "new_account.sell('1234',20.1,100,'09/13')\n",
    "new_account.buy('234',30,100,'09/14')\n",
    "new_account.sell('1234',20, 100, '09/14')\n",
    "new_account.sell('234',20, 100, '09/14')\n",
    "new_account.buy('234',32,300,'09/16')\n",
    "new_account.buy('234',32,300,'09/16')"
   ]
  },
  {
   "cell_type": "code",
   "execution_count": 284,
   "metadata": {
    "collapsed": false,
    "scrolled": true
   },
   "outputs": [
    {
     "name": "stdout",
     "output_type": "stream",
     "text": [
      "balance:¥-8612.7432\n",
      "holdings:{'1234': -77, '234': 600}\n",
      "asset:¥9323.2568\n",
      "P&L:¥-676.7432\n"
     ]
    }
   ],
   "source": [
    "new_account.check_stock_account({'1234':32, '234':34})"
   ]
  },
  {
   "cell_type": "markdown",
   "metadata": {},
   "source": [
    "### This is a class Trading Simulation aims to apply any trading strategy "
   ]
  },
  {
   "cell_type": "code",
   "execution_count": 296,
   "metadata": {
    "collapsed": false
   },
   "outputs": [],
   "source": [
    "class TradeSim: #class designed to handle all trading strategies\n",
    "    def __init__(self, hist_prices, stock_acount ):\n",
    "            self.hist_prices = hist_prices\n",
    "            self.account = stock_acount\n",
    "    \n",
    "    def buy_sell(self, expected_price, market_price, date):\n",
    "        shares_to_buy = 100*abs(expected_price - market_price)/market_price*100\n",
    "        if shares_to_buy > 100:\n",
    "            if expected_price > market_price:\n",
    "                self.account.buy(stock_code, market_price, shares_to_buy, date)\n",
    "            else:\n",
    "                self.account.sell(stock_code, market_price,shares_to_buy, date)\n",
    "        else:\n",
    "            return\n",
    "\n",
    "    def back_testing(self, start_date, end_date, target_stocks, expected_prices): # BackTesting on trading strategy\n",
    "        for date in self.hist_prices[(self.hist_prices['date'] > start_date) & (self.hist_prices['date'] <= end_date)]['date']:\n",
    "            market_price = self.hist_prices[self.hist_prices['code'] in target_stocks & date == self.hist_prices['date'] == date]\n",
    "            expected_price = expected_prices[expected_price['date'] == date ]\n",
    "            return map(lambda x: buy_sell(expected_price[x], market_price[x], date), target_stocks) #apply buy_sell on each stock"
   ]
  },
  {
   "cell_type": "code",
   "execution_count": 287,
   "metadata": {
    "collapsed": false
   },
   "outputs": [],
   "source": [
    "hs300 = pandas.read_csv('hs300.csv')"
   ]
  },
  {
   "cell_type": "markdown",
   "metadata": {},
   "source": [
    "## Affinity Prepagation"
   ]
  },
  {
   "cell_type": "code",
   "execution_count": 294,
   "metadata": {
    "collapsed": true
   },
   "outputs": [],
   "source": [
    "def get_train_data(data_to_train,date_start, date_end):\n",
    "    data_to_train = data_to_train[(data_to_train['date'] > date_start) & (data_to_train['date'] <= date_end)]\n",
    "    data_to_train_group = data_to_train.groupby('code')\n",
    "    value_count = collections.Counter([len(data_to_train_group.get_group(x)) for x in data_to_train_group.groups])\n",
    "    most_common_stock_frequency = max(value_count, key=value_count.get)\n",
    "    lst = [data_to_train_group.get_group(x) for x in data_to_train_group.groups if len(data_to_train_group.get_group(x))==most_common_stock_frequency]\n",
    "    codes = np.asarray([i['code'].values[1] for i in list_stocks])\n",
    "    open = np.array([i.open.values for i in list_stocks]).astype(np.float)\n",
    "    close = np.array([i.close.values for i in list_stocks]).astype(np.float)\n",
    "    variation = close - open\n",
    "    return variation\n",
    "\n",
    "def train_model(variation):\n",
    "    edge_model = covariance.GraphLassoCV()\n",
    "    X = variation.copy().T\n",
    "    X /= X.std(axis=0)\n",
    "    edge_model.fit(X)\n",
    "    _, labels = cluster.affinity_propagation(edge_model.covariance_)\n",
    "    n_labels = labels.max()\n",
    "    l1 = []\n",
    "    for i in range(n_labels + 1):\n",
    "        l1.append(codes[labels == i])\n",
    "    return l1"
   ]
  },
  {
   "cell_type": "code",
   "execution_count": 293,
   "metadata": {
    "collapsed": false
   },
   "outputs": [],
   "source": []
  },
  {
   "cell_type": "code",
   "execution_count": null,
   "metadata": {
    "collapsed": true
   },
   "outputs": [],
   "source": [
    "def trading_strategy():\n",
    "    dfd"
   ]
  },
  {
   "cell_type": "code",
   "execution_count": null,
   "metadata": {
    "collapsed": true
   },
   "outputs": [],
   "source": [
    "def trade_sim(stock_account, start_date, end_date):\n",
    "    "
   ]
  }
 ],
 "metadata": {
  "anaconda-cloud": {},
  "kernelspec": {
   "display_name": "Python [Root]",
   "language": "python",
   "name": "Python [Root]"
  },
  "language_info": {
   "codemirror_mode": {
    "name": "ipython",
    "version": 2
   },
   "file_extension": ".py",
   "mimetype": "text/x-python",
   "name": "python",
   "nbconvert_exporter": "python",
   "pygments_lexer": "ipython2",
   "version": "2.7.9"
  }
 },
 "nbformat": 4,
 "nbformat_minor": 0
}
